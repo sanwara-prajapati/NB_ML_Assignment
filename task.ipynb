{
 "cells": [
  {
   "cell_type": "code",
   "execution_count": 1,
   "metadata": {},
   "outputs": [
    {
     "name": "stderr",
     "output_type": "stream",
     "text": [
      "C:\\Users\\Shree\\Anaconda3\\lib\\importlib\\_bootstrap.py:219: RuntimeWarning: numpy.ufunc size changed, may indicate binary incompatibility. Expected 192 from C header, got 216 from PyObject\n",
      "  return f(*args, **kwds)\n"
     ]
    }
   ],
   "source": [
    "import numpy as np\n",
    "import pandas as pd\n",
    "import matplotlib.pyplot as plt\n",
    "%matplotlib inline"
   ]
  },
  {
   "cell_type": "code",
   "execution_count": 2,
   "metadata": {},
   "outputs": [],
   "source": [
    "data = pd.read_csv(\"CSV 1.csv\")"
   ]
  },
  {
   "cell_type": "code",
   "execution_count": 3,
   "metadata": {},
   "outputs": [
    {
     "name": "stdout",
     "output_type": "stream",
     "text": [
      "<class 'pandas.core.frame.DataFrame'>\n",
      "RangeIndex: 900 entries, 0 to 899\n",
      "Data columns (total 26 columns):\n",
      "id                       900 non-null int64\n",
      "city                     900 non-null object\n",
      "country                  900 non-null object\n",
      "fullStreetAddress        900 non-null object\n",
      "postalCode               900 non-null object\n",
      "stateOrProvince          899 non-null object\n",
      "unitNumber               118 non-null object\n",
      "bathrooms                900 non-null int64\n",
      "bedrooms                 900 non-null int64\n",
      "listingDescription       842 non-null object\n",
      "listingTitle             900 non-null object\n",
      "latitude                 789 non-null float64\n",
      "longitude                789 non-null float64\n",
      "listPrice                900 non-null float64\n",
      "livingArea               726 non-null float64\n",
      "livingAreaUnit           900 non-null object\n",
      "yearBuilt                791 non-null float64\n",
      "lotSize                  562 non-null float64\n",
      "lotSizeUnit              900 non-null object\n",
      "propertySubType          900 non-null object\n",
      "listingCategory          900 non-null object\n",
      "numParkingSpaces         460 non-null float64\n",
      "createdAt                900 non-null object\n",
      "geocodioAccuracyScore    27 non-null float64\n",
      "photoscount              900 non-null int64\n",
      "grade                    900 non-null object\n",
      "dtypes: float64(8), int64(4), object(14)\n",
      "memory usage: 182.9+ KB\n"
     ]
    }
   ],
   "source": [
    "data.info()"
   ]
  },
  {
   "cell_type": "code",
   "execution_count": 4,
   "metadata": {},
   "outputs": [
    {
     "data": {
      "text/html": [
       "<div>\n",
       "<style scoped>\n",
       "    .dataframe tbody tr th:only-of-type {\n",
       "        vertical-align: middle;\n",
       "    }\n",
       "\n",
       "    .dataframe tbody tr th {\n",
       "        vertical-align: top;\n",
       "    }\n",
       "\n",
       "    .dataframe thead th {\n",
       "        text-align: right;\n",
       "    }\n",
       "</style>\n",
       "<table border=\"1\" class=\"dataframe\">\n",
       "  <thead>\n",
       "    <tr style=\"text-align: right;\">\n",
       "      <th></th>\n",
       "      <th>id</th>\n",
       "      <th>bathrooms</th>\n",
       "      <th>bedrooms</th>\n",
       "      <th>latitude</th>\n",
       "      <th>longitude</th>\n",
       "      <th>listPrice</th>\n",
       "      <th>livingArea</th>\n",
       "      <th>yearBuilt</th>\n",
       "      <th>lotSize</th>\n",
       "      <th>numParkingSpaces</th>\n",
       "      <th>geocodioAccuracyScore</th>\n",
       "      <th>photoscount</th>\n",
       "    </tr>\n",
       "  </thead>\n",
       "  <tbody>\n",
       "    <tr>\n",
       "      <th>count</th>\n",
       "      <td>9.000000e+02</td>\n",
       "      <td>900.000000</td>\n",
       "      <td>900.000000</td>\n",
       "      <td>789.000000</td>\n",
       "      <td>789.000000</td>\n",
       "      <td>9.000000e+02</td>\n",
       "      <td>726.000000</td>\n",
       "      <td>791.000000</td>\n",
       "      <td>5.620000e+02</td>\n",
       "      <td>460.000000</td>\n",
       "      <td>27.000000</td>\n",
       "      <td>900.000000</td>\n",
       "    </tr>\n",
       "    <tr>\n",
       "      <th>mean</th>\n",
       "      <td>1.379640e+06</td>\n",
       "      <td>2.220000</td>\n",
       "      <td>2.948889</td>\n",
       "      <td>36.058472</td>\n",
       "      <td>-88.433106</td>\n",
       "      <td>4.455732e+05</td>\n",
       "      <td>2084.289256</td>\n",
       "      <td>1979.609355</td>\n",
       "      <td>1.224170e+05</td>\n",
       "      <td>3.919565</td>\n",
       "      <td>0.952963</td>\n",
       "      <td>18.700000</td>\n",
       "    </tr>\n",
       "    <tr>\n",
       "      <th>std</th>\n",
       "      <td>8.350904e+05</td>\n",
       "      <td>1.359857</td>\n",
       "      <td>2.110319</td>\n",
       "      <td>5.520729</td>\n",
       "      <td>13.363031</td>\n",
       "      <td>4.869270e+06</td>\n",
       "      <td>4154.019862</td>\n",
       "      <td>44.355673</td>\n",
       "      <td>1.110570e+06</td>\n",
       "      <td>46.660458</td>\n",
       "      <td>0.158012</td>\n",
       "      <td>16.242976</td>\n",
       "    </tr>\n",
       "    <tr>\n",
       "      <th>min</th>\n",
       "      <td>2.637000e+03</td>\n",
       "      <td>0.000000</td>\n",
       "      <td>0.000000</td>\n",
       "      <td>18.385107</td>\n",
       "      <td>-157.877612</td>\n",
       "      <td>2.850000e+02</td>\n",
       "      <td>0.000000</td>\n",
       "      <td>1111.000000</td>\n",
       "      <td>0.000000e+00</td>\n",
       "      <td>0.000000</td>\n",
       "      <td>0.330000</td>\n",
       "      <td>0.000000</td>\n",
       "    </tr>\n",
       "    <tr>\n",
       "      <th>25%</th>\n",
       "      <td>6.939698e+05</td>\n",
       "      <td>1.000000</td>\n",
       "      <td>2.000000</td>\n",
       "      <td>32.650636</td>\n",
       "      <td>-94.836975</td>\n",
       "      <td>6.497500e+04</td>\n",
       "      <td>1233.000000</td>\n",
       "      <td>1962.000000</td>\n",
       "      <td>6.534000e+03</td>\n",
       "      <td>1.000000</td>\n",
       "      <td>1.000000</td>\n",
       "      <td>1.000000</td>\n",
       "    </tr>\n",
       "    <tr>\n",
       "      <th>50%</th>\n",
       "      <td>1.362506e+06</td>\n",
       "      <td>2.000000</td>\n",
       "      <td>3.000000</td>\n",
       "      <td>36.053461</td>\n",
       "      <td>-84.288388</td>\n",
       "      <td>1.999000e+05</td>\n",
       "      <td>1684.000000</td>\n",
       "      <td>1987.000000</td>\n",
       "      <td>1.043262e+04</td>\n",
       "      <td>2.000000</td>\n",
       "      <td>1.000000</td>\n",
       "      <td>19.000000</td>\n",
       "    </tr>\n",
       "    <tr>\n",
       "      <th>75%</th>\n",
       "      <td>2.034228e+06</td>\n",
       "      <td>3.000000</td>\n",
       "      <td>4.000000</td>\n",
       "      <td>40.744408</td>\n",
       "      <td>-80.175833</td>\n",
       "      <td>3.399250e+05</td>\n",
       "      <td>2289.500000</td>\n",
       "      <td>2005.000000</td>\n",
       "      <td>2.178000e+04</td>\n",
       "      <td>2.000000</td>\n",
       "      <td>1.000000</td>\n",
       "      <td>30.000000</td>\n",
       "    </tr>\n",
       "    <tr>\n",
       "      <th>max</th>\n",
       "      <td>2.698139e+06</td>\n",
       "      <td>13.000000</td>\n",
       "      <td>51.000000</td>\n",
       "      <td>48.093560</td>\n",
       "      <td>-66.163046</td>\n",
       "      <td>1.450000e+08</td>\n",
       "      <td>99971.000000</td>\n",
       "      <td>2019.000000</td>\n",
       "      <td>1.899216e+07</td>\n",
       "      <td>1002.000000</td>\n",
       "      <td>1.000000</td>\n",
       "      <td>91.000000</td>\n",
       "    </tr>\n",
       "  </tbody>\n",
       "</table>\n",
       "</div>"
      ],
      "text/plain": [
       "                 id   bathrooms    bedrooms    latitude   longitude  \\\n",
       "count  9.000000e+02  900.000000  900.000000  789.000000  789.000000   \n",
       "mean   1.379640e+06    2.220000    2.948889   36.058472  -88.433106   \n",
       "std    8.350904e+05    1.359857    2.110319    5.520729   13.363031   \n",
       "min    2.637000e+03    0.000000    0.000000   18.385107 -157.877612   \n",
       "25%    6.939698e+05    1.000000    2.000000   32.650636  -94.836975   \n",
       "50%    1.362506e+06    2.000000    3.000000   36.053461  -84.288388   \n",
       "75%    2.034228e+06    3.000000    4.000000   40.744408  -80.175833   \n",
       "max    2.698139e+06   13.000000   51.000000   48.093560  -66.163046   \n",
       "\n",
       "          listPrice    livingArea    yearBuilt       lotSize  \\\n",
       "count  9.000000e+02    726.000000   791.000000  5.620000e+02   \n",
       "mean   4.455732e+05   2084.289256  1979.609355  1.224170e+05   \n",
       "std    4.869270e+06   4154.019862    44.355673  1.110570e+06   \n",
       "min    2.850000e+02      0.000000  1111.000000  0.000000e+00   \n",
       "25%    6.497500e+04   1233.000000  1962.000000  6.534000e+03   \n",
       "50%    1.999000e+05   1684.000000  1987.000000  1.043262e+04   \n",
       "75%    3.399250e+05   2289.500000  2005.000000  2.178000e+04   \n",
       "max    1.450000e+08  99971.000000  2019.000000  1.899216e+07   \n",
       "\n",
       "       numParkingSpaces  geocodioAccuracyScore  photoscount  \n",
       "count        460.000000              27.000000   900.000000  \n",
       "mean           3.919565               0.952963    18.700000  \n",
       "std           46.660458               0.158012    16.242976  \n",
       "min            0.000000               0.330000     0.000000  \n",
       "25%            1.000000               1.000000     1.000000  \n",
       "50%            2.000000               1.000000    19.000000  \n",
       "75%            2.000000               1.000000    30.000000  \n",
       "max         1002.000000               1.000000    91.000000  "
      ]
     },
     "execution_count": 4,
     "metadata": {},
     "output_type": "execute_result"
    }
   ],
   "source": [
    "data.describe()"
   ]
  },
  {
   "cell_type": "code",
   "execution_count": 5,
   "metadata": {},
   "outputs": [
    {
     "data": {
      "text/html": [
       "<div>\n",
       "<style scoped>\n",
       "    .dataframe tbody tr th:only-of-type {\n",
       "        vertical-align: middle;\n",
       "    }\n",
       "\n",
       "    .dataframe tbody tr th {\n",
       "        vertical-align: top;\n",
       "    }\n",
       "\n",
       "    .dataframe thead th {\n",
       "        text-align: right;\n",
       "    }\n",
       "</style>\n",
       "<table border=\"1\" class=\"dataframe\">\n",
       "  <thead>\n",
       "    <tr style=\"text-align: right;\">\n",
       "      <th></th>\n",
       "      <th>id</th>\n",
       "      <th>city</th>\n",
       "      <th>country</th>\n",
       "      <th>fullStreetAddress</th>\n",
       "      <th>postalCode</th>\n",
       "      <th>stateOrProvince</th>\n",
       "      <th>unitNumber</th>\n",
       "      <th>bathrooms</th>\n",
       "      <th>bedrooms</th>\n",
       "      <th>listingDescription</th>\n",
       "      <th>...</th>\n",
       "      <th>yearBuilt</th>\n",
       "      <th>lotSize</th>\n",
       "      <th>lotSizeUnit</th>\n",
       "      <th>propertySubType</th>\n",
       "      <th>listingCategory</th>\n",
       "      <th>numParkingSpaces</th>\n",
       "      <th>createdAt</th>\n",
       "      <th>geocodioAccuracyScore</th>\n",
       "      <th>photoscount</th>\n",
       "      <th>grade</th>\n",
       "    </tr>\n",
       "  </thead>\n",
       "  <tbody>\n",
       "    <tr>\n",
       "      <th>0</th>\n",
       "      <td>2698139</td>\n",
       "      <td>St Peters</td>\n",
       "      <td>US</td>\n",
       "      <td>12 Legacy Estates Lane</td>\n",
       "      <td>63376</td>\n",
       "      <td>MO</td>\n",
       "      <td>NaN</td>\n",
       "      <td>6</td>\n",
       "      <td>5</td>\n",
       "      <td>Tucked away in the private Legacy Estates subd...</td>\n",
       "      <td>...</td>\n",
       "      <td>1998.0</td>\n",
       "      <td>NaN</td>\n",
       "      <td>squareFoot</td>\n",
       "      <td>Single Family Detached</td>\n",
       "      <td>Purchase</td>\n",
       "      <td>3.0</td>\n",
       "      <td>2019-02-21 14:53:27.462+00</td>\n",
       "      <td>NaN</td>\n",
       "      <td>29</td>\n",
       "      <td>awesome</td>\n",
       "    </tr>\n",
       "    <tr>\n",
       "      <th>1</th>\n",
       "      <td>2698093</td>\n",
       "      <td>St Louis</td>\n",
       "      <td>US</td>\n",
       "      <td>222 Euclid Avenue</td>\n",
       "      <td>63119</td>\n",
       "      <td>MO</td>\n",
       "      <td>NaN</td>\n",
       "      <td>2</td>\n",
       "      <td>3</td>\n",
       "      <td>This charming Ranch offers hardwood flooring o...</td>\n",
       "      <td>...</td>\n",
       "      <td>1962.0</td>\n",
       "      <td>7753.68</td>\n",
       "      <td>squareFoot</td>\n",
       "      <td>Single Family Detached</td>\n",
       "      <td>Purchase</td>\n",
       "      <td>1.0</td>\n",
       "      <td>2019-02-21 14:53:07.92+00</td>\n",
       "      <td>NaN</td>\n",
       "      <td>29</td>\n",
       "      <td>awesome</td>\n",
       "    </tr>\n",
       "    <tr>\n",
       "      <th>2</th>\n",
       "      <td>2698007</td>\n",
       "      <td>Ballwin</td>\n",
       "      <td>US</td>\n",
       "      <td>741 Woodside Trails Drive</td>\n",
       "      <td>63021</td>\n",
       "      <td>MO</td>\n",
       "      <td>NaN</td>\n",
       "      <td>3</td>\n",
       "      <td>3</td>\n",
       "      <td>This is the LARGEST Villa-style condo in this ...</td>\n",
       "      <td>...</td>\n",
       "      <td>1986.0</td>\n",
       "      <td>14766.84</td>\n",
       "      <td>squareFoot</td>\n",
       "      <td>Condominium</td>\n",
       "      <td>Purchase</td>\n",
       "      <td>2.0</td>\n",
       "      <td>2019-02-21 14:52:30.126+00</td>\n",
       "      <td>NaN</td>\n",
       "      <td>29</td>\n",
       "      <td>awesome</td>\n",
       "    </tr>\n",
       "    <tr>\n",
       "      <th>3</th>\n",
       "      <td>2697963</td>\n",
       "      <td>Manchester</td>\n",
       "      <td>US</td>\n",
       "      <td>301 Wembley Lane</td>\n",
       "      <td>63021</td>\n",
       "      <td>MO</td>\n",
       "      <td>NaN</td>\n",
       "      <td>2</td>\n",
       "      <td>3</td>\n",
       "      <td>Over 1700 sq ft of updated living space in con...</td>\n",
       "      <td>...</td>\n",
       "      <td>1969.0</td>\n",
       "      <td>11848.32</td>\n",
       "      <td>squareFoot</td>\n",
       "      <td>Single Family Detached</td>\n",
       "      <td>Purchase</td>\n",
       "      <td>2.0</td>\n",
       "      <td>2019-02-21 14:52:11.85+00</td>\n",
       "      <td>NaN</td>\n",
       "      <td>29</td>\n",
       "      <td>awesome</td>\n",
       "    </tr>\n",
       "    <tr>\n",
       "      <th>4</th>\n",
       "      <td>2697938</td>\n",
       "      <td>O'fallon</td>\n",
       "      <td>US</td>\n",
       "      <td>27 Clear Meadows</td>\n",
       "      <td>63366</td>\n",
       "      <td>MO</td>\n",
       "      <td>NaN</td>\n",
       "      <td>4</td>\n",
       "      <td>4</td>\n",
       "      <td>Move in ready, excellent condition. Outstandin...</td>\n",
       "      <td>...</td>\n",
       "      <td>2007.0</td>\n",
       "      <td>10890.00</td>\n",
       "      <td>squareFoot</td>\n",
       "      <td>Single Family Detached</td>\n",
       "      <td>Purchase</td>\n",
       "      <td>3.0</td>\n",
       "      <td>2019-02-21 14:51:55.495+00</td>\n",
       "      <td>NaN</td>\n",
       "      <td>29</td>\n",
       "      <td>awesome</td>\n",
       "    </tr>\n",
       "  </tbody>\n",
       "</table>\n",
       "<p>5 rows × 26 columns</p>\n",
       "</div>"
      ],
      "text/plain": [
       "        id        city country          fullStreetAddress postalCode  \\\n",
       "0  2698139   St Peters      US     12 Legacy Estates Lane      63376   \n",
       "1  2698093    St Louis      US          222 Euclid Avenue      63119   \n",
       "2  2698007     Ballwin      US  741 Woodside Trails Drive      63021   \n",
       "3  2697963  Manchester      US           301 Wembley Lane      63021   \n",
       "4  2697938    O'fallon      US           27 Clear Meadows      63366   \n",
       "\n",
       "  stateOrProvince unitNumber  bathrooms  bedrooms  \\\n",
       "0              MO        NaN          6         5   \n",
       "1              MO        NaN          2         3   \n",
       "2              MO        NaN          3         3   \n",
       "3              MO        NaN          2         3   \n",
       "4              MO        NaN          4         4   \n",
       "\n",
       "                                  listingDescription  ... yearBuilt   lotSize  \\\n",
       "0  Tucked away in the private Legacy Estates subd...  ...    1998.0       NaN   \n",
       "1  This charming Ranch offers hardwood flooring o...  ...    1962.0   7753.68   \n",
       "2  This is the LARGEST Villa-style condo in this ...  ...    1986.0  14766.84   \n",
       "3  Over 1700 sq ft of updated living space in con...  ...    1969.0  11848.32   \n",
       "4  Move in ready, excellent condition. Outstandin...  ...    2007.0  10890.00   \n",
       "\n",
       "   lotSizeUnit         propertySubType  listingCategory numParkingSpaces  \\\n",
       "0   squareFoot  Single Family Detached         Purchase              3.0   \n",
       "1   squareFoot  Single Family Detached         Purchase              1.0   \n",
       "2   squareFoot             Condominium         Purchase              2.0   \n",
       "3   squareFoot  Single Family Detached         Purchase              2.0   \n",
       "4   squareFoot  Single Family Detached         Purchase              3.0   \n",
       "\n",
       "                    createdAt  geocodioAccuracyScore photoscount    grade  \n",
       "0  2019-02-21 14:53:27.462+00                    NaN          29  awesome  \n",
       "1   2019-02-21 14:53:07.92+00                    NaN          29  awesome  \n",
       "2  2019-02-21 14:52:30.126+00                    NaN          29  awesome  \n",
       "3   2019-02-21 14:52:11.85+00                    NaN          29  awesome  \n",
       "4  2019-02-21 14:51:55.495+00                    NaN          29  awesome  \n",
       "\n",
       "[5 rows x 26 columns]"
      ]
     },
     "execution_count": 5,
     "metadata": {},
     "output_type": "execute_result"
    }
   ],
   "source": [
    "data.head()"
   ]
  },
  {
   "cell_type": "code",
   "execution_count": 6,
   "metadata": {},
   "outputs": [
    {
     "data": {
      "text/plain": [
       "id                         0\n",
       "city                       0\n",
       "country                    0\n",
       "fullStreetAddress          0\n",
       "postalCode                 0\n",
       "stateOrProvince            1\n",
       "unitNumber               782\n",
       "bathrooms                  0\n",
       "bedrooms                   0\n",
       "listingDescription        58\n",
       "listingTitle               0\n",
       "latitude                 111\n",
       "longitude                111\n",
       "listPrice                  0\n",
       "livingArea               174\n",
       "livingAreaUnit             0\n",
       "yearBuilt                109\n",
       "lotSize                  338\n",
       "lotSizeUnit                0\n",
       "propertySubType            0\n",
       "listingCategory            0\n",
       "numParkingSpaces         440\n",
       "createdAt                  0\n",
       "geocodioAccuracyScore    873\n",
       "photoscount                0\n",
       "grade                      0\n",
       "dtype: int64"
      ]
     },
     "execution_count": 6,
     "metadata": {},
     "output_type": "execute_result"
    }
   ],
   "source": [
    "# number of missing value in each cloumns\n",
    "data.isnull().sum()"
   ]
  },
  {
   "cell_type": "code",
   "execution_count": 7,
   "metadata": {},
   "outputs": [],
   "source": [
    "# drop the colums which have too much missing value like geocodioAccuracyScore"
   ]
  },
  {
   "cell_type": "code",
   "execution_count": 8,
   "metadata": {},
   "outputs": [],
   "source": [
    "data = data.drop('geocodioAccuracyScore',1)"
   ]
  },
  {
   "cell_type": "code",
   "execution_count": 9,
   "metadata": {},
   "outputs": [],
   "source": [
    "data = data.drop('unitNumber',1)"
   ]
  },
  {
   "cell_type": "code",
   "execution_count": 10,
   "metadata": {},
   "outputs": [
    {
     "data": {
      "text/plain": [
       "id                      0\n",
       "city                    0\n",
       "country                 0\n",
       "fullStreetAddress       0\n",
       "postalCode              0\n",
       "stateOrProvince         1\n",
       "bathrooms               0\n",
       "bedrooms                0\n",
       "listingDescription     58\n",
       "listingTitle            0\n",
       "latitude              111\n",
       "longitude             111\n",
       "listPrice               0\n",
       "livingArea            174\n",
       "livingAreaUnit          0\n",
       "yearBuilt             109\n",
       "lotSize               338\n",
       "lotSizeUnit             0\n",
       "propertySubType         0\n",
       "listingCategory         0\n",
       "numParkingSpaces      440\n",
       "createdAt               0\n",
       "photoscount             0\n",
       "grade                   0\n",
       "dtype: int64"
      ]
     },
     "execution_count": 10,
     "metadata": {},
     "output_type": "execute_result"
    }
   ],
   "source": [
    "data.isnull().sum()"
   ]
  },
  {
   "cell_type": "code",
   "execution_count": 11,
   "metadata": {},
   "outputs": [],
   "source": [
    "# filling the missing value "
   ]
  },
  {
   "cell_type": "code",
   "execution_count": null,
   "metadata": {},
   "outputs": [],
   "source": []
  },
  {
   "cell_type": "code",
   "execution_count": 12,
   "metadata": {},
   "outputs": [],
   "source": [
    "data_mean=data['latitude'].mean()\n",
    "data['latitude']=data['latitude'].fillna(data_mean)"
   ]
  },
  {
   "cell_type": "code",
   "execution_count": 13,
   "metadata": {},
   "outputs": [],
   "source": [
    "data_mean=data['longitude'].mean()\n",
    "data['longitude']=data['longitude'].fillna(data_mean)"
   ]
  },
  {
   "cell_type": "code",
   "execution_count": 14,
   "metadata": {},
   "outputs": [],
   "source": [
    "data_mean=data['livingArea'].mean()\n",
    "data['livingArea']=data['livingArea'].fillna(data_mean)"
   ]
  },
  {
   "cell_type": "code",
   "execution_count": 15,
   "metadata": {},
   "outputs": [],
   "source": [
    "# fill by mode \n",
    "#data_mode=data['yearBuilt'].mode()\n",
    "#data['yearBuilt']=data['yearBuilt'].fillna(data_mode)"
   ]
  },
  {
   "cell_type": "code",
   "execution_count": 16,
   "metadata": {},
   "outputs": [],
   "source": [
    "data_mean=data['lotSize'].mean()\n",
    "data['lotSize']=data['lotSize'].fillna(data_mean)"
   ]
  },
  {
   "cell_type": "code",
   "execution_count": 17,
   "metadata": {},
   "outputs": [],
   "source": [
    "data_mean=data['numParkingSpaces'].mean()\n",
    "data['numParkingSpaces']=data['numParkingSpaces'].fillna(data_mean)"
   ]
  },
  {
   "cell_type": "code",
   "execution_count": null,
   "metadata": {},
   "outputs": [],
   "source": []
  },
  {
   "cell_type": "code",
   "execution_count": 45,
   "metadata": {},
   "outputs": [
    {
     "name": "stdout",
     "output_type": "stream",
     "text": [
      "yearBuilt\n",
      "1111.0     1\n",
      "1800.0     1\n",
      "1820.0     1\n",
      "1850.0     1\n",
      "1860.0     1\n",
      "1875.0     1\n",
      "1876.0     1\n",
      "1881.0     1\n",
      "1886.0     1\n",
      "1889.0     1\n",
      "1890.0     3\n",
      "1892.0     1\n",
      "1893.0     1\n",
      "1899.0     2\n",
      "1900.0     7\n",
      "1901.0     1\n",
      "1903.0     1\n",
      "1904.0     1\n",
      "1906.0     1\n",
      "1907.0     2\n",
      "1908.0     1\n",
      "1910.0     3\n",
      "1920.0     9\n",
      "1922.0     3\n",
      "1923.0     5\n",
      "1924.0     1\n",
      "1925.0     3\n",
      "1926.0     3\n",
      "1927.0     2\n",
      "1928.0     2\n",
      "          ..\n",
      "1990.0     5\n",
      "1991.0     5\n",
      "1992.0     7\n",
      "1993.0    10\n",
      "1994.0     8\n",
      "1995.0    18\n",
      "1996.0     6\n",
      "1997.0     5\n",
      "1998.0    10\n",
      "1999.0    15\n",
      "2000.0    14\n",
      "2001.0     4\n",
      "2002.0    13\n",
      "2003.0    20\n",
      "2004.0    23\n",
      "2005.0    18\n",
      "2006.0    24\n",
      "2007.0    18\n",
      "2008.0    15\n",
      "2009.0     6\n",
      "2010.0     5\n",
      "2011.0     4\n",
      "2012.0     5\n",
      "2013.0     5\n",
      "2014.0    10\n",
      "2015.0     6\n",
      "2016.0     6\n",
      "2017.0    15\n",
      "2018.0    55\n",
      "2019.0     9\n",
      "Length: 116, dtype: int64\n"
     ]
    }
   ],
   "source": [
    "print(data.groupby('yearBuilt').size())"
   ]
  },
  {
   "cell_type": "code",
   "execution_count": null,
   "metadata": {},
   "outputs": [],
   "source": []
  },
  {
   "cell_type": "code",
   "execution_count": 47,
   "metadata": {},
   "outputs": [],
   "source": [
    "year_b=2019"
   ]
  },
  {
   "cell_type": "code",
   "execution_count": 52,
   "metadata": {},
   "outputs": [],
   "source": [
    "data['yearBuilt']=data['yearBuilt'].fillna(year_b)"
   ]
  },
  {
   "cell_type": "code",
   "execution_count": 53,
   "metadata": {},
   "outputs": [
    {
     "name": "stdout",
     "output_type": "stream",
     "text": [
      "stateOrProvince\n",
      "AL     18\n",
      "AR     15\n",
      "AZ     32\n",
      "CA     34\n",
      "CO      3\n",
      "CT      2\n",
      "DC      2\n",
      "DE      1\n",
      "FL    166\n",
      "GA     43\n",
      "HI      1\n",
      "IA     18\n",
      "ID      6\n",
      "IL     26\n",
      "IN     10\n",
      "KS     10\n",
      "KY     15\n",
      "LA     14\n",
      "MA      4\n",
      "MD      8\n",
      "ME      9\n",
      "MI     22\n",
      "MN      4\n",
      "MO     29\n",
      "MS      3\n",
      "MT      1\n",
      "NC     29\n",
      "NE      9\n",
      "NH      2\n",
      "NJ     36\n",
      "NM      6\n",
      "NV     53\n",
      "NY     64\n",
      "OH     11\n",
      "OK     14\n",
      "ON      2\n",
      "OR      7\n",
      "PA     12\n",
      "PR      2\n",
      "RI      3\n",
      "SC     18\n",
      "SD      1\n",
      "TN     24\n",
      "TX     51\n",
      "UT      3\n",
      "VA     23\n",
      "VT      2\n",
      "WA      9\n",
      "WI     16\n",
      "WV      3\n",
      "WY      3\n",
      "dtype: int64\n"
     ]
    }
   ],
   "source": [
    "print(data.groupby('stateOrProvince').size())"
   ]
  },
  {
   "cell_type": "code",
   "execution_count": 55,
   "metadata": {},
   "outputs": [],
   "source": [
    "#print(data.groupby('listingDescription').size())"
   ]
  },
  {
   "cell_type": "code",
   "execution_count": null,
   "metadata": {},
   "outputs": [],
   "source": [
    "data_s=FL"
   ]
  },
  {
   "cell_type": "code",
   "execution_count": 57,
   "metadata": {},
   "outputs": [
    {
     "ename": "NameError",
     "evalue": "name 'data_s' is not defined",
     "output_type": "error",
     "traceback": [
      "\u001b[1;31m---------------------------------------------------------------------------\u001b[0m",
      "\u001b[1;31mNameError\u001b[0m                                 Traceback (most recent call last)",
      "\u001b[1;32m<ipython-input-57-d8cba01b5752>\u001b[0m in \u001b[0;36m<module>\u001b[1;34m\u001b[0m\n\u001b[1;32m----> 1\u001b[1;33m \u001b[0mdata\u001b[0m\u001b[1;33m[\u001b[0m\u001b[1;34m'stateOrProvince'\u001b[0m\u001b[1;33m]\u001b[0m\u001b[1;33m=\u001b[0m\u001b[0mdata\u001b[0m\u001b[1;33m[\u001b[0m\u001b[1;34m'stateOrProvince'\u001b[0m\u001b[1;33m]\u001b[0m\u001b[1;33m.\u001b[0m\u001b[0mfillna\u001b[0m\u001b[1;33m(\u001b[0m\u001b[0mdata_s\u001b[0m\u001b[1;33m)\u001b[0m\u001b[1;33m\u001b[0m\u001b[1;33m\u001b[0m\u001b[0m\n\u001b[0m",
      "\u001b[1;31mNameError\u001b[0m: name 'data_s' is not defined"
     ]
    }
   ],
   "source": [
    "data['stateOrProvince']=data['stateOrProvince'].fillna(data_s)"
   ]
  },
  {
   "cell_type": "code",
   "execution_count": 56,
   "metadata": {},
   "outputs": [
    {
     "data": {
      "text/plain": [
       "id                     0\n",
       "city                   0\n",
       "country                0\n",
       "fullStreetAddress      0\n",
       "postalCode             0\n",
       "stateOrProvince        1\n",
       "bathrooms              0\n",
       "bedrooms               0\n",
       "listingDescription    58\n",
       "listingTitle           0\n",
       "latitude               0\n",
       "longitude              0\n",
       "listPrice              0\n",
       "livingArea             0\n",
       "livingAreaUnit         0\n",
       "yearBuilt              0\n",
       "lotSize                0\n",
       "lotSizeUnit            0\n",
       "propertySubType        0\n",
       "listingCategory        0\n",
       "numParkingSpaces       0\n",
       "createdAt              0\n",
       "photoscount            0\n",
       "grade                  0\n",
       "dtype: int64"
      ]
     },
     "execution_count": 56,
     "metadata": {},
     "output_type": "execute_result"
    }
   ],
   "source": [
    "data.isnull().sum()"
   ]
  },
  {
   "cell_type": "code",
   "execution_count": null,
   "metadata": {},
   "outputs": [],
   "source": []
  },
  {
   "cell_type": "code",
   "execution_count": null,
   "metadata": {},
   "outputs": [],
   "source": []
  },
  {
   "cell_type": "code",
   "execution_count": 39,
   "metadata": {},
   "outputs": [],
   "source": [
    "import scipy.sparse as sp"
   ]
  },
  {
   "cell_type": "code",
   "execution_count": 40,
   "metadata": {},
   "outputs": [],
   "source": [
    "from sklearn.impute import SimpleImputer"
   ]
  },
  {
   "cell_type": "code",
   "execution_count": 41,
   "metadata": {},
   "outputs": [
    {
     "data": {
      "text/plain": [
       "array([[2698139, 'St Peters', 'US', ..., '2019-02-21 14:53:27.462+00',\n",
       "        29, 'awesome'],\n",
       "       [2698093, 'St Louis', 'US', ..., '2019-02-21 14:53:07.92+00', 29,\n",
       "        'awesome'],\n",
       "       [2698007, 'Ballwin', 'US', ..., '2019-02-21 14:52:30.126+00', 29,\n",
       "        'awesome'],\n",
       "       ...,\n",
       "       [5181, 'North Miami Beach', 'US', ...,\n",
       "        '2018-07-03 03:03:32.003+00', 2, 'bad'],\n",
       "       [3983, 'Sunrise', 'US', ..., '2018-07-03 03:03:09.277+00', 0,\n",
       "        'bad'],\n",
       "       [2637, 'North Lauderdale', 'US', ...,\n",
       "        '2018-07-03 03:02:41.916+00', 0, 'bad']], dtype=object)"
      ]
     },
     "execution_count": 41,
     "metadata": {},
     "output_type": "execute_result"
    }
   ],
   "source": [
    "imp = SimpleImputer(strategy=\"most_frequent\")\n",
    "imp.fit_transform(data)"
   ]
  },
  {
   "cell_type": "code",
   "execution_count": 42,
   "metadata": {},
   "outputs": [
    {
     "data": {
      "text/plain": [
       "id                      0\n",
       "city                    0\n",
       "country                 0\n",
       "fullStreetAddress       0\n",
       "postalCode              0\n",
       "stateOrProvince         1\n",
       "bathrooms               0\n",
       "bedrooms                0\n",
       "listingDescription     58\n",
       "listingTitle            0\n",
       "latitude                0\n",
       "longitude               0\n",
       "listPrice               0\n",
       "livingArea              0\n",
       "livingAreaUnit          0\n",
       "yearBuilt             109\n",
       "lotSize                 0\n",
       "lotSizeUnit             0\n",
       "propertySubType         0\n",
       "listingCategory         0\n",
       "numParkingSpaces        0\n",
       "createdAt               0\n",
       "photoscount             0\n",
       "grade                   0\n",
       "dtype: int64"
      ]
     },
     "execution_count": 42,
     "metadata": {},
     "output_type": "execute_result"
    }
   ],
   "source": [
    "data.isnull().sum()"
   ]
  },
  {
   "cell_type": "code",
   "execution_count": null,
   "metadata": {},
   "outputs": [],
   "source": []
  },
  {
   "cell_type": "code",
   "execution_count": null,
   "metadata": {},
   "outputs": [],
   "source": []
  },
  {
   "cell_type": "code",
   "execution_count": 26,
   "metadata": {},
   "outputs": [
    {
     "ename": "ValueError",
     "evalue": "could not convert string to float: 'St Peters'",
     "output_type": "error",
     "traceback": [
      "\u001b[1;31m---------------------------------------------------------------------------\u001b[0m",
      "\u001b[1;31mValueError\u001b[0m                                Traceback (most recent call last)",
      "\u001b[1;32m<ipython-input-26-badb12fb20c2>\u001b[0m in \u001b[0;36m<module>\u001b[1;34m\u001b[0m\n\u001b[1;32m----> 1\u001b[1;33m \u001b[0mimput\u001b[0m\u001b[1;33m.\u001b[0m\u001b[0mfit\u001b[0m\u001b[1;33m(\u001b[0m\u001b[0mdata\u001b[0m\u001b[1;33m)\u001b[0m\u001b[1;33m\u001b[0m\u001b[1;33m\u001b[0m\u001b[0m\n\u001b[0m",
      "\u001b[1;32m~\\Anaconda3\\lib\\site-packages\\sklearn\\preprocessing\\imputation.py\u001b[0m in \u001b[0;36mfit\u001b[1;34m(self, X, y)\u001b[0m\n\u001b[0;32m    156\u001b[0m         \u001b[1;32mif\u001b[0m \u001b[0mself\u001b[0m\u001b[1;33m.\u001b[0m\u001b[0maxis\u001b[0m \u001b[1;33m==\u001b[0m \u001b[1;36m0\u001b[0m\u001b[1;33m:\u001b[0m\u001b[1;33m\u001b[0m\u001b[1;33m\u001b[0m\u001b[0m\n\u001b[0;32m    157\u001b[0m             X = check_array(X, accept_sparse='csc', dtype=np.float64,\n\u001b[1;32m--> 158\u001b[1;33m                             force_all_finite=False)\n\u001b[0m\u001b[0;32m    159\u001b[0m \u001b[1;33m\u001b[0m\u001b[0m\n\u001b[0;32m    160\u001b[0m             \u001b[1;32mif\u001b[0m \u001b[0msparse\u001b[0m\u001b[1;33m.\u001b[0m\u001b[0missparse\u001b[0m\u001b[1;33m(\u001b[0m\u001b[0mX\u001b[0m\u001b[1;33m)\u001b[0m\u001b[1;33m:\u001b[0m\u001b[1;33m\u001b[0m\u001b[1;33m\u001b[0m\u001b[0m\n",
      "\u001b[1;32m~\\Anaconda3\\lib\\site-packages\\sklearn\\utils\\validation.py\u001b[0m in \u001b[0;36mcheck_array\u001b[1;34m(array, accept_sparse, accept_large_sparse, dtype, order, copy, force_all_finite, ensure_2d, allow_nd, ensure_min_samples, ensure_min_features, warn_on_dtype, estimator)\u001b[0m\n\u001b[0;32m    525\u001b[0m             \u001b[1;32mtry\u001b[0m\u001b[1;33m:\u001b[0m\u001b[1;33m\u001b[0m\u001b[1;33m\u001b[0m\u001b[0m\n\u001b[0;32m    526\u001b[0m                 \u001b[0mwarnings\u001b[0m\u001b[1;33m.\u001b[0m\u001b[0msimplefilter\u001b[0m\u001b[1;33m(\u001b[0m\u001b[1;34m'error'\u001b[0m\u001b[1;33m,\u001b[0m \u001b[0mComplexWarning\u001b[0m\u001b[1;33m)\u001b[0m\u001b[1;33m\u001b[0m\u001b[1;33m\u001b[0m\u001b[0m\n\u001b[1;32m--> 527\u001b[1;33m                 \u001b[0marray\u001b[0m \u001b[1;33m=\u001b[0m \u001b[0mnp\u001b[0m\u001b[1;33m.\u001b[0m\u001b[0masarray\u001b[0m\u001b[1;33m(\u001b[0m\u001b[0marray\u001b[0m\u001b[1;33m,\u001b[0m \u001b[0mdtype\u001b[0m\u001b[1;33m=\u001b[0m\u001b[0mdtype\u001b[0m\u001b[1;33m,\u001b[0m \u001b[0morder\u001b[0m\u001b[1;33m=\u001b[0m\u001b[0morder\u001b[0m\u001b[1;33m)\u001b[0m\u001b[1;33m\u001b[0m\u001b[1;33m\u001b[0m\u001b[0m\n\u001b[0m\u001b[0;32m    528\u001b[0m             \u001b[1;32mexcept\u001b[0m \u001b[0mComplexWarning\u001b[0m\u001b[1;33m:\u001b[0m\u001b[1;33m\u001b[0m\u001b[1;33m\u001b[0m\u001b[0m\n\u001b[0;32m    529\u001b[0m                 raise ValueError(\"Complex data not supported\\n\"\n",
      "\u001b[1;32m~\\Anaconda3\\lib\\site-packages\\numpy\\core\\numeric.py\u001b[0m in \u001b[0;36masarray\u001b[1;34m(a, dtype, order)\u001b[0m\n\u001b[0;32m    536\u001b[0m \u001b[1;33m\u001b[0m\u001b[0m\n\u001b[0;32m    537\u001b[0m     \"\"\"\n\u001b[1;32m--> 538\u001b[1;33m     \u001b[1;32mreturn\u001b[0m \u001b[0marray\u001b[0m\u001b[1;33m(\u001b[0m\u001b[0ma\u001b[0m\u001b[1;33m,\u001b[0m \u001b[0mdtype\u001b[0m\u001b[1;33m,\u001b[0m \u001b[0mcopy\u001b[0m\u001b[1;33m=\u001b[0m\u001b[1;32mFalse\u001b[0m\u001b[1;33m,\u001b[0m \u001b[0morder\u001b[0m\u001b[1;33m=\u001b[0m\u001b[0morder\u001b[0m\u001b[1;33m)\u001b[0m\u001b[1;33m\u001b[0m\u001b[1;33m\u001b[0m\u001b[0m\n\u001b[0m\u001b[0;32m    539\u001b[0m \u001b[1;33m\u001b[0m\u001b[0m\n\u001b[0;32m    540\u001b[0m \u001b[1;33m\u001b[0m\u001b[0m\n",
      "\u001b[1;31mValueError\u001b[0m: could not convert string to float: 'St Peters'"
     ]
    }
   ],
   "source": []
  },
  {
   "cell_type": "code",
   "execution_count": null,
   "metadata": {},
   "outputs": [],
   "source": []
  }
 ],
 "metadata": {
  "kernelspec": {
   "display_name": "Python 3",
   "language": "python",
   "name": "python3"
  },
  "language_info": {
   "codemirror_mode": {
    "name": "ipython",
    "version": 3
   },
   "file_extension": ".py",
   "mimetype": "text/x-python",
   "name": "python",
   "nbconvert_exporter": "python",
   "pygments_lexer": "ipython3",
   "version": "3.7.2"
  }
 },
 "nbformat": 4,
 "nbformat_minor": 2
}
